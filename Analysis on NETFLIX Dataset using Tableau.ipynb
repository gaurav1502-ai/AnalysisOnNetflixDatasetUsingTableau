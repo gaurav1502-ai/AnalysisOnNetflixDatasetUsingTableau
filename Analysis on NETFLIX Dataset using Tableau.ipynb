{
  "nbformat": 4,
  "nbformat_minor": 0,
  "metadata": {
    "celltoolbar": "Raw Cell Format",
    "hide_input": false,
    "kernelspec": {
      "display_name": "Python 3",
      "language": "python",
      "name": "python3"
    },
    "language_info": {
      "codemirror_mode": {
        "name": "ipython",
        "version": 3
      },
      "file_extension": ".py",
      "mimetype": "text/x-python",
      "name": "python",
      "nbconvert_exporter": "python",
      "pygments_lexer": "ipython3",
      "version": "3.7.4"
    },
    "toc": {
      "base_numbering": 1,
      "nav_menu": {
        "height": "12px",
        "width": "160px"
      },
      "number_sections": false,
      "sideBar": true,
      "skip_h1_title": true,
      "title_cell": "Table of Contents",
      "title_sidebar": "Contents",
      "toc_cell": false,
      "toc_position": {
        "height": "calc(100% - 180px)",
        "left": "10px",
        "top": "150px",
        "width": "307.2px"
      },
      "toc_section_display": false,
      "toc_window_display": false
    },
    "varInspector": {
      "cols": {
        "lenName": 16,
        "lenType": 16,
        "lenVar": 40
      },
      "kernels_config": {
        "python": {
          "delete_cmd_postfix": "",
          "delete_cmd_prefix": "del ",
          "library": "var_list.py",
          "varRefreshCmd": "print(var_dic_list())"
        },
        "r": {
          "delete_cmd_postfix": ") ",
          "delete_cmd_prefix": "rm(",
          "library": "var_list.r",
          "varRefreshCmd": "cat(var_dic_list()) "
        }
      },
      "types_to_exclude": [
        "module",
        "function",
        "builtin_function_or_method",
        "instance",
        "_Feature"
      ],
      "window_display": false
    },
    "colab": {
      "name": "Analysis on NETFLIX Dataset using Tableau.ipynb",
      "provenance": [],
      "include_colab_link": true
    }
  },
  "cells": [
    {
      "cell_type": "markdown",
      "metadata": {
        "id": "view-in-github",
        "colab_type": "text"
      },
      "source": [
        "<a href=\"https://colab.research.google.com/github/gauravkv95/Tableau-Projects/blob/master/Analysis%20on%20NETFLIX%20Dataset%20using%20Tableau/Analysis%20on%20NETFLIX%20Dataset%20using%20Tableau.ipynb\" target=\"_parent\"><img src=\"https://colab.research.google.com/assets/colab-badge.svg\" alt=\"Open In Colab\"/></a>"
      ]
    },
    {
      "cell_type": "markdown",
      "metadata": {
        "id": "ezgrC5SSg_3r"
      },
      "source": [
        "<img src = 'https://github.com/insaid2018/Term-1/blob/master/Images/INSAID_Full%20Logo.png?raw=true' width=\"240\" height=\"360\" align = 'center'>\n",
        "\n",
        "# **Processing of Netflix and IMDB Dataset for analysis using TABLEAU**\n",
        "\n",
        "\n",
        "<img src = 'https://github.com/gauravkv95/Tableau-Projects/blob/master/Analysis%20on%20NETFLIX%20Dataset%20using%20Tableau/Netflix_Logo.png?raw=true' width=\"800\" height=\"500\" align = 'center'>\n",
        "\n",
        "\n",
        "\n"
      ]
    },
    {
      "cell_type": "markdown",
      "metadata": {
        "id": "YEoJbyWeg_3t"
      },
      "source": [
        "## Table of Contents\n",
        "\n",
        "1. [Importing Packages](#section1)<br>\n",
        "2. [Loading Data](#section2)<br>\n",
        "  - 2.1 [Importing Netflix Dataset](#section201)<br>\n",
        "  - 2.2 [Importing IMDB Datasets](#section202)<br>\n",
        "  - 2.3 [Merging IMDB and Netflix Datasets](#section203)<br>\n",
        "3. [Data Preprocessing](#section3)<br>\n",
        "4. [Export Dataset for Analysis](#section4)<br>\n",
        "  - 4.1 [Export processed NETFLIX-IMDB Dataset for analysis](#section401)<br>\n",
        "  - 4.2 [Export processed NETFLIX_Country Dataset for analysis](#section402)<br>\n",
        "  - 4.3 [Export processed NETFLIX_Genre Dataset for analysis](#section403)<br>"
      ]
    },
    {
      "cell_type": "markdown",
      "metadata": {
        "id": "QDhEbKhtg_3v"
      },
      "source": [
        "<a id=section1></a>\n",
        "## 1. Importing Packages"
      ]
    },
    {
      "cell_type": "code",
      "metadata": {
        "id": "5T8dFwVhg_31",
        "outputId": "5f5cf011-641b-4fec-9672-7cba13429684",
        "colab": {
          "base_uri": "https://localhost:8080/"
        }
      },
      "source": [
        "import numpy as np                     \n",
        "\n",
        "import pandas as pd\n",
        "pd.set_option('mode.chained_assignment', None)      # To suppress pandas warnings.\n",
        "pd.set_option('display.max_colwidth', -1)           # To display all the data in each column\n",
        "pd.options.display.max_columns = 50                 # To display every column of the dataset in head()\n",
        "\n",
        "import warnings\n",
        "warnings.filterwarnings('ignore')                   # To suppress all the warnings in the notebook."
      ],
      "execution_count": 2,
      "outputs": [
        {
          "output_type": "stream",
          "text": [
            "/usr/local/lib/python3.6/dist-packages/ipykernel_launcher.py:5: FutureWarning: Passing a negative integer is deprecated in version 1.0 and will not be supported in future version. Instead, use None to not limit the column width.\n",
            "  \"\"\"\n"
          ],
          "name": "stderr"
        }
      ]
    },
    {
      "cell_type": "markdown",
      "metadata": {
        "id": "SMqz1D-AlFYX"
      },
      "source": [
        "### Mount Google Drive"
      ]
    },
    {
      "cell_type": "code",
      "metadata": {
        "id": "ZSoUF3irlAYq",
        "outputId": "b302ff9e-7117-4fbf-d3c1-087a702f0b24",
        "colab": {
          "base_uri": "https://localhost:8080/"
        }
      },
      "source": [
        "# Mount Google Drive\n",
        "from google.colab import drive # import drive from google colab\n",
        "\n",
        "ROOT = \"/content/drive\"     # default location for the drive\n",
        "print(ROOT)                 # print content of ROOT (Optional)\n",
        "\n",
        "drive.mount(ROOT)           # we mount the google drive at /content/drive"
      ],
      "execution_count": 29,
      "outputs": [
        {
          "output_type": "stream",
          "text": [
            "/content/drive\n",
            "Mounted at /content/drive\n"
          ],
          "name": "stdout"
        }
      ]
    },
    {
      "cell_type": "markdown",
      "metadata": {
        "id": "2akGDMxUg_4B"
      },
      "source": [
        "<a id=section2></a>\n",
        "## 2. Loading Data"
      ]
    },
    {
      "cell_type": "markdown",
      "metadata": {
        "id": "OsAamgqEg_4C"
      },
      "source": [
        "In this **Data Visualization** sheet we are doing analysis of movies and tv shows present in of **Netflix** OTT Platform. For this analysis we will use Netflix Dataset and IMDB Datasets to gain insights on our data."
      ]
    },
    {
      "cell_type": "markdown",
      "metadata": {
        "id": "iM2qHCZeg_4E"
      },
      "source": [
        "<a id=section201></a>\n",
        "### 2.1 Importing Netflix Dataset"
      ]
    },
    {
      "cell_type": "code",
      "metadata": {
        "id": "qvrQbbFeg_4F",
        "outputId": "f0e15f6a-99f7-44a6-cbde-b9009b41e0ee",
        "colab": {
          "base_uri": "https://localhost:8080/",
          "height": 274
        }
      },
      "source": [
        "# Importing the 1st dataset (Netflix Movies and TV Shows).\n",
        "\n",
        "df_netflix = pd.read_csv('https://media.githubusercontent.com/media/gauravkv95/Data-Science-Projects/master/Project%20Datasets/Netflix%20Content%20Dataset/Raw%20Dataset/netflix_titles.csv')\n",
        "df_netflix.head(2)"
      ],
      "execution_count": 4,
      "outputs": [
        {
          "output_type": "execute_result",
          "data": {
            "text/html": [
              "<div>\n",
              "<style scoped>\n",
              "    .dataframe tbody tr th:only-of-type {\n",
              "        vertical-align: middle;\n",
              "    }\n",
              "\n",
              "    .dataframe tbody tr th {\n",
              "        vertical-align: top;\n",
              "    }\n",
              "\n",
              "    .dataframe thead th {\n",
              "        text-align: right;\n",
              "    }\n",
              "</style>\n",
              "<table border=\"1\" class=\"dataframe\">\n",
              "  <thead>\n",
              "    <tr style=\"text-align: right;\">\n",
              "      <th></th>\n",
              "      <th>show_id</th>\n",
              "      <th>type</th>\n",
              "      <th>title</th>\n",
              "      <th>director</th>\n",
              "      <th>cast</th>\n",
              "      <th>country</th>\n",
              "      <th>date_added</th>\n",
              "      <th>release_year</th>\n",
              "      <th>rating</th>\n",
              "      <th>duration</th>\n",
              "      <th>listed_in</th>\n",
              "      <th>description</th>\n",
              "    </tr>\n",
              "  </thead>\n",
              "  <tbody>\n",
              "    <tr>\n",
              "      <th>0</th>\n",
              "      <td>81145628</td>\n",
              "      <td>Movie</td>\n",
              "      <td>Norm of the North: King Sized Adventure</td>\n",
              "      <td>Richard Finn, Tim Maltby</td>\n",
              "      <td>Alan Marriott, Andrew Toth, Brian Dobson, Cole Howard, Jennifer Cameron, Jonathan Holmes, Lee Tockar, Lisa Durupt, Maya Kay, Michael Dobson</td>\n",
              "      <td>United States, India, South Korea, China</td>\n",
              "      <td>September 9, 2019</td>\n",
              "      <td>2019</td>\n",
              "      <td>TV-PG</td>\n",
              "      <td>90 min</td>\n",
              "      <td>Children &amp; Family Movies, Comedies</td>\n",
              "      <td>Before planning an awesome wedding for his grandfather, a polar bear king must take back a stolen artifact from an evil archaeologist first.</td>\n",
              "    </tr>\n",
              "    <tr>\n",
              "      <th>1</th>\n",
              "      <td>80117401</td>\n",
              "      <td>Movie</td>\n",
              "      <td>Jandino: Whatever it Takes</td>\n",
              "      <td>NaN</td>\n",
              "      <td>Jandino Asporaat</td>\n",
              "      <td>United Kingdom</td>\n",
              "      <td>September 9, 2016</td>\n",
              "      <td>2016</td>\n",
              "      <td>TV-MA</td>\n",
              "      <td>94 min</td>\n",
              "      <td>Stand-Up Comedy</td>\n",
              "      <td>Jandino Asporaat riffs on the challenges of raising kids and serenades the audience with a rousing rendition of \"Sex on Fire\" in his comedy show.</td>\n",
              "    </tr>\n",
              "  </tbody>\n",
              "</table>\n",
              "</div>"
            ],
            "text/plain": [
              "    show_id   type                                    title  \\\n",
              "0  81145628  Movie  Norm of the North: King Sized Adventure   \n",
              "1  80117401  Movie  Jandino: Whatever it Takes                \n",
              "\n",
              "                   director  \\\n",
              "0  Richard Finn, Tim Maltby   \n",
              "1  NaN                        \n",
              "\n",
              "                                                                                                                                          cast  \\\n",
              "0  Alan Marriott, Andrew Toth, Brian Dobson, Cole Howard, Jennifer Cameron, Jonathan Holmes, Lee Tockar, Lisa Durupt, Maya Kay, Michael Dobson   \n",
              "1  Jandino Asporaat                                                                                                                              \n",
              "\n",
              "                                    country         date_added  release_year  \\\n",
              "0  United States, India, South Korea, China  September 9, 2019  2019           \n",
              "1  United Kingdom                            September 9, 2016  2016           \n",
              "\n",
              "  rating duration                           listed_in  \\\n",
              "0  TV-PG  90 min   Children & Family Movies, Comedies   \n",
              "1  TV-MA  94 min   Stand-Up Comedy                      \n",
              "\n",
              "                                                                                                                                         description  \n",
              "0  Before planning an awesome wedding for his grandfather, a polar bear king must take back a stolen artifact from an evil archaeologist first.       \n",
              "1  Jandino Asporaat riffs on the challenges of raising kids and serenades the audience with a rousing rendition of \"Sex on Fire\" in his comedy show.  "
            ]
          },
          "metadata": {
            "tags": []
          },
          "execution_count": 4
        }
      ]
    },
    {
      "cell_type": "code",
      "metadata": {
        "id": "EiNPtY9eg_4M",
        "outputId": "17db638a-1837-4627-a748-5bd28018c14b",
        "colab": {
          "base_uri": "https://localhost:8080/"
        }
      },
      "source": [
        "df_netflix.info()"
      ],
      "execution_count": 5,
      "outputs": [
        {
          "output_type": "stream",
          "text": [
            "<class 'pandas.core.frame.DataFrame'>\n",
            "RangeIndex: 6234 entries, 0 to 6233\n",
            "Data columns (total 12 columns):\n",
            " #   Column        Non-Null Count  Dtype \n",
            "---  ------        --------------  ----- \n",
            " 0   show_id       6234 non-null   int64 \n",
            " 1   type          6234 non-null   object\n",
            " 2   title         6234 non-null   object\n",
            " 3   director      4265 non-null   object\n",
            " 4   cast          5664 non-null   object\n",
            " 5   country       5758 non-null   object\n",
            " 6   date_added    6223 non-null   object\n",
            " 7   release_year  6234 non-null   int64 \n",
            " 8   rating        6224 non-null   object\n",
            " 9   duration      6234 non-null   object\n",
            " 10  listed_in     6234 non-null   object\n",
            " 11  description   6234 non-null   object\n",
            "dtypes: int64(2), object(10)\n",
            "memory usage: 584.6+ KB\n"
          ],
          "name": "stdout"
        }
      ]
    },
    {
      "cell_type": "markdown",
      "metadata": {
        "id": "99A9w-z3g_4S"
      },
      "source": [
        "<a id=section202></a>\n",
        "### 2.2 Importing IMDB Datasets\n",
        "\n",
        "For this EDA we have taken below mentioned datasets from [IMDb data sets repository](https://www.imdb.com/interfaces/Load). The dataset is in .tsv format which we will use and save into dataframe. \n",
        "\n",
        "Information courtesy of IMDb (http://www.imdb.com). Used with permission. \n",
        "\n",
        "The two datasets are:\n",
        "\n",
        "    \"title.basics.tsv.gz\" - From this dataset the names of Movies/TV Shows and release year is taken.\n",
        "    \"title.ratings.tsv.gz\" - From this dataset the ratings for the titles are taken.\n",
        "\n",
        "Both datasets have 'tconst' column which contains unique id for each content. Using this column we will merge above datasets."
      ]
    },
    {
      "cell_type": "markdown",
      "metadata": {
        "id": "zWDlrrLpg_4T"
      },
      "source": [
        "#### Importing IMDB Basics Dataset"
      ]
    },
    {
      "cell_type": "code",
      "metadata": {
        "id": "eykI8Jcjg_4U",
        "outputId": "3b0acac9-1dcd-48af-bdad-bc6f9f78a6b1",
        "colab": {
          "base_uri": "https://localhost:8080/",
          "height": 195
        }
      },
      "source": [
        "# Importing the 2nd dataset (Title Basics dataset of IMDB).\n",
        "\n",
        "df_imdb_basics=pd.read_csv(\"https://media.githubusercontent.com/media/gauravkv95/Data-Science-Projects/master/Project%20Datasets/Netflix%20Content%20Dataset/Raw%20Dataset/title.basics.tsv/data.tsv\", sep='\\t', low_memory=False, na_values=[\"\\\\N\"])\n",
        "df_imdb_basics.head()"
      ],
      "execution_count": 7,
      "outputs": [
        {
          "output_type": "execute_result",
          "data": {
            "text/html": [
              "<div>\n",
              "<style scoped>\n",
              "    .dataframe tbody tr th:only-of-type {\n",
              "        vertical-align: middle;\n",
              "    }\n",
              "\n",
              "    .dataframe tbody tr th {\n",
              "        vertical-align: top;\n",
              "    }\n",
              "\n",
              "    .dataframe thead th {\n",
              "        text-align: right;\n",
              "    }\n",
              "</style>\n",
              "<table border=\"1\" class=\"dataframe\">\n",
              "  <thead>\n",
              "    <tr style=\"text-align: right;\">\n",
              "      <th></th>\n",
              "      <th>tconst</th>\n",
              "      <th>titleType</th>\n",
              "      <th>primaryTitle</th>\n",
              "      <th>originalTitle</th>\n",
              "      <th>isAdult</th>\n",
              "      <th>startYear</th>\n",
              "      <th>endYear</th>\n",
              "      <th>runtimeMinutes</th>\n",
              "      <th>genres</th>\n",
              "    </tr>\n",
              "  </thead>\n",
              "  <tbody>\n",
              "    <tr>\n",
              "      <th>0</th>\n",
              "      <td>tt0000001</td>\n",
              "      <td>short</td>\n",
              "      <td>Carmencita</td>\n",
              "      <td>Carmencita</td>\n",
              "      <td>0</td>\n",
              "      <td>1894.0</td>\n",
              "      <td>NaN</td>\n",
              "      <td>1</td>\n",
              "      <td>Documentary,Short</td>\n",
              "    </tr>\n",
              "    <tr>\n",
              "      <th>1</th>\n",
              "      <td>tt0000002</td>\n",
              "      <td>short</td>\n",
              "      <td>Le clown et ses chiens</td>\n",
              "      <td>Le clown et ses chiens</td>\n",
              "      <td>0</td>\n",
              "      <td>1892.0</td>\n",
              "      <td>NaN</td>\n",
              "      <td>5</td>\n",
              "      <td>Animation,Short</td>\n",
              "    </tr>\n",
              "    <tr>\n",
              "      <th>2</th>\n",
              "      <td>tt0000003</td>\n",
              "      <td>short</td>\n",
              "      <td>Pauvre Pierrot</td>\n",
              "      <td>Pauvre Pierrot</td>\n",
              "      <td>0</td>\n",
              "      <td>1892.0</td>\n",
              "      <td>NaN</td>\n",
              "      <td>4</td>\n",
              "      <td>Animation,Comedy,Romance</td>\n",
              "    </tr>\n",
              "    <tr>\n",
              "      <th>3</th>\n",
              "      <td>tt0000004</td>\n",
              "      <td>short</td>\n",
              "      <td>Un bon bock</td>\n",
              "      <td>Un bon bock</td>\n",
              "      <td>0</td>\n",
              "      <td>1892.0</td>\n",
              "      <td>NaN</td>\n",
              "      <td>12</td>\n",
              "      <td>Animation,Short</td>\n",
              "    </tr>\n",
              "    <tr>\n",
              "      <th>4</th>\n",
              "      <td>tt0000005</td>\n",
              "      <td>short</td>\n",
              "      <td>Blacksmith Scene</td>\n",
              "      <td>Blacksmith Scene</td>\n",
              "      <td>0</td>\n",
              "      <td>1893.0</td>\n",
              "      <td>NaN</td>\n",
              "      <td>1</td>\n",
              "      <td>Comedy,Short</td>\n",
              "    </tr>\n",
              "  </tbody>\n",
              "</table>\n",
              "</div>"
            ],
            "text/plain": [
              "      tconst titleType            primaryTitle           originalTitle  \\\n",
              "0  tt0000001  short     Carmencita              Carmencita               \n",
              "1  tt0000002  short     Le clown et ses chiens  Le clown et ses chiens   \n",
              "2  tt0000003  short     Pauvre Pierrot          Pauvre Pierrot           \n",
              "3  tt0000004  short     Un bon bock             Un bon bock              \n",
              "4  tt0000005  short     Blacksmith Scene        Blacksmith Scene         \n",
              "\n",
              "   isAdult  startYear  endYear runtimeMinutes                    genres  \n",
              "0  0        1894.0    NaN       1              Documentary,Short         \n",
              "1  0        1892.0    NaN       5              Animation,Short           \n",
              "2  0        1892.0    NaN       4              Animation,Comedy,Romance  \n",
              "3  0        1892.0    NaN       12             Animation,Short           \n",
              "4  0        1893.0    NaN       1              Comedy,Short              "
            ]
          },
          "metadata": {
            "tags": []
          },
          "execution_count": 7
        }
      ]
    },
    {
      "cell_type": "code",
      "metadata": {
        "id": "pFzbM6G0g_4b",
        "outputId": "1a285479-bf5b-4b85-8fb9-33f182076641",
        "colab": {
          "base_uri": "https://localhost:8080/"
        }
      },
      "source": [
        "df_imdb_basics.info(null_counts=True)     # info of original imdb_basics dataset"
      ],
      "execution_count": 8,
      "outputs": [
        {
          "output_type": "stream",
          "text": [
            "<class 'pandas.core.frame.DataFrame'>\n",
            "RangeIndex: 6746319 entries, 0 to 6746318\n",
            "Data columns (total 9 columns):\n",
            " #   Column          Non-Null Count    Dtype  \n",
            "---  ------          --------------    -----  \n",
            " 0   tconst          6746319 non-null  object \n",
            " 1   titleType       6746319 non-null  object \n",
            " 2   primaryTitle    6746305 non-null  object \n",
            " 3   originalTitle   6746305 non-null  object \n",
            " 4   isAdult         6746319 non-null  int64  \n",
            " 5   startYear       6256175 non-null  float64\n",
            " 6   endYear         59181 non-null    float64\n",
            " 7   runtimeMinutes  1961319 non-null  object \n",
            " 8   genres          6215529 non-null  object \n",
            "dtypes: float64(2), int64(1), object(6)\n",
            "memory usage: 463.2+ MB\n"
          ],
          "name": "stdout"
        }
      ]
    },
    {
      "cell_type": "markdown",
      "metadata": {
        "id": "oS8ANfiIg_4g"
      },
      "source": [
        "#### Cleaning IMDB_Basics dataset"
      ]
    },
    {
      "cell_type": "code",
      "metadata": {
        "id": "cqg7xR6hg_4i",
        "outputId": "3f77b890-d985-4a46-9cf7-b24d0cbbe01f",
        "colab": {
          "base_uri": "https://localhost:8080/",
          "height": 195
        }
      },
      "source": [
        "# Removing unwanted column from dataframe\n",
        "df_imdb_basics= df_imdb_basics[['tconst','primaryTitle','originalTitle','startYear']]\n",
        "df_imdb_basics.head()"
      ],
      "execution_count": 9,
      "outputs": [
        {
          "output_type": "execute_result",
          "data": {
            "text/html": [
              "<div>\n",
              "<style scoped>\n",
              "    .dataframe tbody tr th:only-of-type {\n",
              "        vertical-align: middle;\n",
              "    }\n",
              "\n",
              "    .dataframe tbody tr th {\n",
              "        vertical-align: top;\n",
              "    }\n",
              "\n",
              "    .dataframe thead th {\n",
              "        text-align: right;\n",
              "    }\n",
              "</style>\n",
              "<table border=\"1\" class=\"dataframe\">\n",
              "  <thead>\n",
              "    <tr style=\"text-align: right;\">\n",
              "      <th></th>\n",
              "      <th>tconst</th>\n",
              "      <th>primaryTitle</th>\n",
              "      <th>originalTitle</th>\n",
              "      <th>startYear</th>\n",
              "    </tr>\n",
              "  </thead>\n",
              "  <tbody>\n",
              "    <tr>\n",
              "      <th>0</th>\n",
              "      <td>tt0000001</td>\n",
              "      <td>Carmencita</td>\n",
              "      <td>Carmencita</td>\n",
              "      <td>1894.0</td>\n",
              "    </tr>\n",
              "    <tr>\n",
              "      <th>1</th>\n",
              "      <td>tt0000002</td>\n",
              "      <td>Le clown et ses chiens</td>\n",
              "      <td>Le clown et ses chiens</td>\n",
              "      <td>1892.0</td>\n",
              "    </tr>\n",
              "    <tr>\n",
              "      <th>2</th>\n",
              "      <td>tt0000003</td>\n",
              "      <td>Pauvre Pierrot</td>\n",
              "      <td>Pauvre Pierrot</td>\n",
              "      <td>1892.0</td>\n",
              "    </tr>\n",
              "    <tr>\n",
              "      <th>3</th>\n",
              "      <td>tt0000004</td>\n",
              "      <td>Un bon bock</td>\n",
              "      <td>Un bon bock</td>\n",
              "      <td>1892.0</td>\n",
              "    </tr>\n",
              "    <tr>\n",
              "      <th>4</th>\n",
              "      <td>tt0000005</td>\n",
              "      <td>Blacksmith Scene</td>\n",
              "      <td>Blacksmith Scene</td>\n",
              "      <td>1893.0</td>\n",
              "    </tr>\n",
              "  </tbody>\n",
              "</table>\n",
              "</div>"
            ],
            "text/plain": [
              "      tconst            primaryTitle           originalTitle  startYear\n",
              "0  tt0000001  Carmencita              Carmencita              1894.0   \n",
              "1  tt0000002  Le clown et ses chiens  Le clown et ses chiens  1892.0   \n",
              "2  tt0000003  Pauvre Pierrot          Pauvre Pierrot          1892.0   \n",
              "3  tt0000004  Un bon bock             Un bon bock             1892.0   \n",
              "4  tt0000005  Blacksmith Scene        Blacksmith Scene        1893.0   "
            ]
          },
          "metadata": {
            "tags": []
          },
          "execution_count": 9
        }
      ]
    },
    {
      "cell_type": "code",
      "metadata": {
        "id": "Oc2fDMcrg_4q"
      },
      "source": [
        "# Converting values in startYear column from float64 to int64\n",
        "df_imdb_basics = df_imdb_basics.dropna(subset=['startYear'])\n",
        "\n",
        "df_imdb_basics['startYear']= df_imdb_basics['startYear'].astype(np.int64)"
      ],
      "execution_count": 10,
      "outputs": []
    },
    {
      "cell_type": "code",
      "metadata": {
        "id": "_8s8U1Jdg_4v",
        "outputId": "4caf7bb1-27d9-4856-d4aa-ed051a6ea9f8",
        "colab": {
          "base_uri": "https://localhost:8080/"
        }
      },
      "source": [
        "df_imdb_basics.info(null_counts=True)"
      ],
      "execution_count": 11,
      "outputs": [
        {
          "output_type": "stream",
          "text": [
            "<class 'pandas.core.frame.DataFrame'>\n",
            "Int64Index: 6256175 entries, 0 to 6746318\n",
            "Data columns (total 4 columns):\n",
            " #   Column         Non-Null Count    Dtype \n",
            "---  ------         --------------    ----- \n",
            " 0   tconst         6256175 non-null  object\n",
            " 1   primaryTitle   6256161 non-null  object\n",
            " 2   originalTitle  6256161 non-null  object\n",
            " 3   startYear      6256175 non-null  int64 \n",
            "dtypes: int64(1), object(3)\n",
            "memory usage: 238.7+ MB\n"
          ],
          "name": "stdout"
        }
      ]
    },
    {
      "cell_type": "markdown",
      "metadata": {
        "id": "o251BFvtg_4y"
      },
      "source": [
        "#### Importing IMDB Ratings Dataset"
      ]
    },
    {
      "cell_type": "code",
      "metadata": {
        "id": "_yOAih7og_4z",
        "outputId": "c4bae8c7-17e3-4473-8cf4-63f67afd12ea",
        "colab": {
          "base_uri": "https://localhost:8080/",
          "height": 195
        }
      },
      "source": [
        "# Importing the 3rd dataset (Title Ratings dataset of IMDB).\n",
        "\n",
        "df_imdb_ratings=pd.read_csv(\"https://media.githubusercontent.com/media/gauravkv95/Data-Science-Projects/master/Project%20Datasets/Netflix%20Content%20Dataset/Raw%20Dataset/title.ratings.tsv/data_rating.tsv\", sep='\\t', low_memory=False, na_values=[\"\\\\N\"])\n",
        "df_imdb_ratings.head()"
      ],
      "execution_count": 12,
      "outputs": [
        {
          "output_type": "execute_result",
          "data": {
            "text/html": [
              "<div>\n",
              "<style scoped>\n",
              "    .dataframe tbody tr th:only-of-type {\n",
              "        vertical-align: middle;\n",
              "    }\n",
              "\n",
              "    .dataframe tbody tr th {\n",
              "        vertical-align: top;\n",
              "    }\n",
              "\n",
              "    .dataframe thead th {\n",
              "        text-align: right;\n",
              "    }\n",
              "</style>\n",
              "<table border=\"1\" class=\"dataframe\">\n",
              "  <thead>\n",
              "    <tr style=\"text-align: right;\">\n",
              "      <th></th>\n",
              "      <th>tconst</th>\n",
              "      <th>averageRating</th>\n",
              "      <th>numVotes</th>\n",
              "    </tr>\n",
              "  </thead>\n",
              "  <tbody>\n",
              "    <tr>\n",
              "      <th>0</th>\n",
              "      <td>tt0000001</td>\n",
              "      <td>5.6</td>\n",
              "      <td>1608</td>\n",
              "    </tr>\n",
              "    <tr>\n",
              "      <th>1</th>\n",
              "      <td>tt0000002</td>\n",
              "      <td>6.0</td>\n",
              "      <td>197</td>\n",
              "    </tr>\n",
              "    <tr>\n",
              "      <th>2</th>\n",
              "      <td>tt0000003</td>\n",
              "      <td>6.5</td>\n",
              "      <td>1286</td>\n",
              "    </tr>\n",
              "    <tr>\n",
              "      <th>3</th>\n",
              "      <td>tt0000004</td>\n",
              "      <td>6.1</td>\n",
              "      <td>121</td>\n",
              "    </tr>\n",
              "    <tr>\n",
              "      <th>4</th>\n",
              "      <td>tt0000005</td>\n",
              "      <td>6.1</td>\n",
              "      <td>2051</td>\n",
              "    </tr>\n",
              "  </tbody>\n",
              "</table>\n",
              "</div>"
            ],
            "text/plain": [
              "      tconst  averageRating  numVotes\n",
              "0  tt0000001  5.6            1608    \n",
              "1  tt0000002  6.0            197     \n",
              "2  tt0000003  6.5            1286    \n",
              "3  tt0000004  6.1            121     \n",
              "4  tt0000005  6.1            2051    "
            ]
          },
          "metadata": {
            "tags": []
          },
          "execution_count": 12
        }
      ]
    },
    {
      "cell_type": "code",
      "metadata": {
        "id": "3fxq0HHfg_43",
        "outputId": "8bdea244-370c-46c9-d2e7-a439c84f320d",
        "colab": {
          "base_uri": "https://localhost:8080/"
        }
      },
      "source": [
        "df_imdb_ratings.info()"
      ],
      "execution_count": 13,
      "outputs": [
        {
          "output_type": "stream",
          "text": [
            "<class 'pandas.core.frame.DataFrame'>\n",
            "RangeIndex: 1030874 entries, 0 to 1030873\n",
            "Data columns (total 3 columns):\n",
            " #   Column         Non-Null Count    Dtype  \n",
            "---  ------         --------------    -----  \n",
            " 0   tconst         1030874 non-null  object \n",
            " 1   averageRating  1030874 non-null  float64\n",
            " 2   numVotes       1030874 non-null  int64  \n",
            "dtypes: float64(1), int64(1), object(1)\n",
            "memory usage: 23.6+ MB\n"
          ],
          "name": "stdout"
        }
      ]
    },
    {
      "cell_type": "markdown",
      "metadata": {
        "id": "LUpl5Ik8g_47"
      },
      "source": [
        "#### Merging both IMDB Datasets"
      ]
    },
    {
      "cell_type": "code",
      "metadata": {
        "id": "hvBJGgCBg_47",
        "outputId": "904d0fde-963a-461e-a6e4-af0b7884d315",
        "colab": {
          "base_uri": "https://localhost:8080/",
          "height": 195
        }
      },
      "source": [
        "df_imdb = pd.merge(left= df_imdb_basics, right= df_imdb_ratings, on= 'tconst', how = 'inner')\n",
        "df_imdb.head()"
      ],
      "execution_count": 14,
      "outputs": [
        {
          "output_type": "execute_result",
          "data": {
            "text/html": [
              "<div>\n",
              "<style scoped>\n",
              "    .dataframe tbody tr th:only-of-type {\n",
              "        vertical-align: middle;\n",
              "    }\n",
              "\n",
              "    .dataframe tbody tr th {\n",
              "        vertical-align: top;\n",
              "    }\n",
              "\n",
              "    .dataframe thead th {\n",
              "        text-align: right;\n",
              "    }\n",
              "</style>\n",
              "<table border=\"1\" class=\"dataframe\">\n",
              "  <thead>\n",
              "    <tr style=\"text-align: right;\">\n",
              "      <th></th>\n",
              "      <th>tconst</th>\n",
              "      <th>primaryTitle</th>\n",
              "      <th>originalTitle</th>\n",
              "      <th>startYear</th>\n",
              "      <th>averageRating</th>\n",
              "      <th>numVotes</th>\n",
              "    </tr>\n",
              "  </thead>\n",
              "  <tbody>\n",
              "    <tr>\n",
              "      <th>0</th>\n",
              "      <td>tt0000001</td>\n",
              "      <td>Carmencita</td>\n",
              "      <td>Carmencita</td>\n",
              "      <td>1894</td>\n",
              "      <td>5.6</td>\n",
              "      <td>1608</td>\n",
              "    </tr>\n",
              "    <tr>\n",
              "      <th>1</th>\n",
              "      <td>tt0000002</td>\n",
              "      <td>Le clown et ses chiens</td>\n",
              "      <td>Le clown et ses chiens</td>\n",
              "      <td>1892</td>\n",
              "      <td>6.0</td>\n",
              "      <td>197</td>\n",
              "    </tr>\n",
              "    <tr>\n",
              "      <th>2</th>\n",
              "      <td>tt0000003</td>\n",
              "      <td>Pauvre Pierrot</td>\n",
              "      <td>Pauvre Pierrot</td>\n",
              "      <td>1892</td>\n",
              "      <td>6.5</td>\n",
              "      <td>1286</td>\n",
              "    </tr>\n",
              "    <tr>\n",
              "      <th>3</th>\n",
              "      <td>tt0000004</td>\n",
              "      <td>Un bon bock</td>\n",
              "      <td>Un bon bock</td>\n",
              "      <td>1892</td>\n",
              "      <td>6.1</td>\n",
              "      <td>121</td>\n",
              "    </tr>\n",
              "    <tr>\n",
              "      <th>4</th>\n",
              "      <td>tt0000005</td>\n",
              "      <td>Blacksmith Scene</td>\n",
              "      <td>Blacksmith Scene</td>\n",
              "      <td>1893</td>\n",
              "      <td>6.1</td>\n",
              "      <td>2051</td>\n",
              "    </tr>\n",
              "  </tbody>\n",
              "</table>\n",
              "</div>"
            ],
            "text/plain": [
              "      tconst            primaryTitle           originalTitle  startYear  \\\n",
              "0  tt0000001  Carmencita              Carmencita              1894        \n",
              "1  tt0000002  Le clown et ses chiens  Le clown et ses chiens  1892        \n",
              "2  tt0000003  Pauvre Pierrot          Pauvre Pierrot          1892        \n",
              "3  tt0000004  Un bon bock             Un bon bock             1892        \n",
              "4  tt0000005  Blacksmith Scene        Blacksmith Scene        1893        \n",
              "\n",
              "   averageRating  numVotes  \n",
              "0  5.6            1608      \n",
              "1  6.0            197       \n",
              "2  6.5            1286      \n",
              "3  6.1            121       \n",
              "4  6.1            2051      "
            ]
          },
          "metadata": {
            "tags": []
          },
          "execution_count": 14
        }
      ]
    },
    {
      "cell_type": "code",
      "metadata": {
        "id": "27alFqyqg_4-",
        "outputId": "a117fd78-bb56-496b-aa0e-6347d922ba02",
        "colab": {
          "base_uri": "https://localhost:8080/"
        }
      },
      "source": [
        "df_imdb.info()"
      ],
      "execution_count": 15,
      "outputs": [
        {
          "output_type": "stream",
          "text": [
            "<class 'pandas.core.frame.DataFrame'>\n",
            "Int64Index: 1030741 entries, 0 to 1030740\n",
            "Data columns (total 6 columns):\n",
            " #   Column         Non-Null Count    Dtype  \n",
            "---  ------         --------------    -----  \n",
            " 0   tconst         1030741 non-null  object \n",
            " 1   primaryTitle   1030741 non-null  object \n",
            " 2   originalTitle  1030741 non-null  object \n",
            " 3   startYear      1030741 non-null  int64  \n",
            " 4   averageRating  1030741 non-null  float64\n",
            " 5   numVotes       1030741 non-null  int64  \n",
            "dtypes: float64(1), int64(2), object(3)\n",
            "memory usage: 55.0+ MB\n"
          ],
          "name": "stdout"
        }
      ]
    },
    {
      "cell_type": "markdown",
      "metadata": {
        "id": "nriDPm8Qg_5G"
      },
      "source": [
        "<a id=section203></a>\n",
        "### 2.3 Merging IMDB and Netflix Datasets"
      ]
    },
    {
      "cell_type": "code",
      "metadata": {
        "id": "POj8mUIMg_5H"
      },
      "source": [
        "#Before merging we will have to convert all values in Movie Name column in both Netflix and IMDB dataset to lower case.\n",
        "\n",
        "df_netflix['title']= df_netflix['title'].str.lower()\n",
        "df_imdb['originalTitle']= df_imdb['originalTitle'].str.lower()\n",
        "df_imdb['primaryTitle']= df_imdb['primaryTitle'].str.lower()"
      ],
      "execution_count": 16,
      "outputs": []
    },
    {
      "cell_type": "code",
      "metadata": {
        "id": "pKXEE6vfg_5N",
        "outputId": "0423abc8-606d-445f-b54a-ce24ac445e3b",
        "colab": {
          "base_uri": "https://localhost:8080/",
          "height": 681
        }
      },
      "source": [
        "df_netflix_imdb= pd.merge(left= df_netflix, right= df_imdb, left_on=['title', 'release_year'], right_on=['primaryTitle', 'startYear'], how='left')\n",
        "df_netflix_imdb.head(2)"
      ],
      "execution_count": 17,
      "outputs": [
        {
          "output_type": "execute_result",
          "data": {
            "text/html": [
              "<div>\n",
              "<style scoped>\n",
              "    .dataframe tbody tr th:only-of-type {\n",
              "        vertical-align: middle;\n",
              "    }\n",
              "\n",
              "    .dataframe tbody tr th {\n",
              "        vertical-align: top;\n",
              "    }\n",
              "\n",
              "    .dataframe thead th {\n",
              "        text-align: right;\n",
              "    }\n",
              "</style>\n",
              "<table border=\"1\" class=\"dataframe\">\n",
              "  <thead>\n",
              "    <tr style=\"text-align: right;\">\n",
              "      <th></th>\n",
              "      <th>show_id</th>\n",
              "      <th>type</th>\n",
              "      <th>title</th>\n",
              "      <th>director</th>\n",
              "      <th>cast</th>\n",
              "      <th>country</th>\n",
              "      <th>date_added</th>\n",
              "      <th>release_year</th>\n",
              "      <th>rating</th>\n",
              "      <th>duration</th>\n",
              "      <th>listed_in</th>\n",
              "      <th>description</th>\n",
              "      <th>tconst</th>\n",
              "      <th>primaryTitle</th>\n",
              "      <th>originalTitle</th>\n",
              "      <th>startYear</th>\n",
              "      <th>averageRating</th>\n",
              "      <th>numVotes</th>\n",
              "    </tr>\n",
              "  </thead>\n",
              "  <tbody>\n",
              "    <tr>\n",
              "      <th>0</th>\n",
              "      <td>81145628</td>\n",
              "      <td>Movie</td>\n",
              "      <td>norm of the north: king sized adventure</td>\n",
              "      <td>Richard Finn, Tim Maltby</td>\n",
              "      <td>Alan Marriott, Andrew Toth, Brian Dobson, Cole Howard, Jennifer Cameron, Jonathan Holmes, Lee Tockar, Lisa Durupt, Maya Kay, Michael Dobson</td>\n",
              "      <td>United States, India, South Korea, China</td>\n",
              "      <td>September 9, 2019</td>\n",
              "      <td>2019</td>\n",
              "      <td>TV-PG</td>\n",
              "      <td>90 min</td>\n",
              "      <td>Children &amp; Family Movies, Comedies</td>\n",
              "      <td>Before planning an awesome wedding for his grandfather, a polar bear king must take back a stolen artifact from an evil archaeologist first.</td>\n",
              "      <td>tt9428190</td>\n",
              "      <td>norm of the north: king sized adventure</td>\n",
              "      <td>norm of the north: king sized adventure</td>\n",
              "      <td>2019.0</td>\n",
              "      <td>3.1</td>\n",
              "      <td>258.0</td>\n",
              "    </tr>\n",
              "    <tr>\n",
              "      <th>1</th>\n",
              "      <td>80117401</td>\n",
              "      <td>Movie</td>\n",
              "      <td>jandino: whatever it takes</td>\n",
              "      <td>NaN</td>\n",
              "      <td>Jandino Asporaat</td>\n",
              "      <td>United Kingdom</td>\n",
              "      <td>September 9, 2016</td>\n",
              "      <td>2016</td>\n",
              "      <td>TV-MA</td>\n",
              "      <td>94 min</td>\n",
              "      <td>Stand-Up Comedy</td>\n",
              "      <td>Jandino Asporaat riffs on the challenges of raising kids and serenades the audience with a rousing rendition of \"Sex on Fire\" in his comedy show.</td>\n",
              "      <td>tt6999080</td>\n",
              "      <td>jandino: whatever it takes</td>\n",
              "      <td>jandino: whatever it takes</td>\n",
              "      <td>2016.0</td>\n",
              "      <td>5.2</td>\n",
              "      <td>18.0</td>\n",
              "    </tr>\n",
              "  </tbody>\n",
              "</table>\n",
              "</div>"
            ],
            "text/plain": [
              "    show_id   type                                    title  \\\n",
              "0  81145628  Movie  norm of the north: king sized adventure   \n",
              "1  80117401  Movie  jandino: whatever it takes                \n",
              "\n",
              "                   director  \\\n",
              "0  Richard Finn, Tim Maltby   \n",
              "1  NaN                        \n",
              "\n",
              "                                                                                                                                          cast  \\\n",
              "0  Alan Marriott, Andrew Toth, Brian Dobson, Cole Howard, Jennifer Cameron, Jonathan Holmes, Lee Tockar, Lisa Durupt, Maya Kay, Michael Dobson   \n",
              "1  Jandino Asporaat                                                                                                                              \n",
              "\n",
              "                                    country         date_added  release_year  \\\n",
              "0  United States, India, South Korea, China  September 9, 2019  2019           \n",
              "1  United Kingdom                            September 9, 2016  2016           \n",
              "\n",
              "  rating duration                           listed_in  \\\n",
              "0  TV-PG  90 min   Children & Family Movies, Comedies   \n",
              "1  TV-MA  94 min   Stand-Up Comedy                      \n",
              "\n",
              "                                                                                                                                         description  \\\n",
              "0  Before planning an awesome wedding for his grandfather, a polar bear king must take back a stolen artifact from an evil archaeologist first.        \n",
              "1  Jandino Asporaat riffs on the challenges of raising kids and serenades the audience with a rousing rendition of \"Sex on Fire\" in his comedy show.   \n",
              "\n",
              "      tconst                             primaryTitle  \\\n",
              "0  tt9428190  norm of the north: king sized adventure   \n",
              "1  tt6999080  jandino: whatever it takes                \n",
              "\n",
              "                             originalTitle  startYear  averageRating  numVotes  \n",
              "0  norm of the north: king sized adventure  2019.0     3.1            258.0     \n",
              "1  jandino: whatever it takes               2016.0     5.2            18.0      "
            ]
          },
          "metadata": {
            "tags": []
          },
          "execution_count": 17
        }
      ]
    },
    {
      "cell_type": "code",
      "metadata": {
        "id": "xTYNFipTg_5R",
        "outputId": "f8fbe6b2-65c8-4c06-af18-b7786e7564a0",
        "colab": {
          "base_uri": "https://localhost:8080/",
          "height": 1000
        }
      },
      "source": [
        "# Dropping Duplicate Columns\n",
        "\n",
        "df_netflix_imdb= df_netflix_imdb.drop(['tconst','primaryTitle','originalTitle','startYear'], axis = 1) \n",
        "df_netflix_imdb.rename(columns = {'averageRating':'IMDB Average Rating'}, inplace = True)\n",
        "df_netflix_imdb.set_index('show_id', inplace=True)\n",
        "df_netflix_imdb.head()"
      ],
      "execution_count": 18,
      "outputs": [
        {
          "output_type": "execute_result",
          "data": {
            "text/html": [
              "<div>\n",
              "<style scoped>\n",
              "    .dataframe tbody tr th:only-of-type {\n",
              "        vertical-align: middle;\n",
              "    }\n",
              "\n",
              "    .dataframe tbody tr th {\n",
              "        vertical-align: top;\n",
              "    }\n",
              "\n",
              "    .dataframe thead th {\n",
              "        text-align: right;\n",
              "    }\n",
              "</style>\n",
              "<table border=\"1\" class=\"dataframe\">\n",
              "  <thead>\n",
              "    <tr style=\"text-align: right;\">\n",
              "      <th></th>\n",
              "      <th>type</th>\n",
              "      <th>title</th>\n",
              "      <th>director</th>\n",
              "      <th>cast</th>\n",
              "      <th>country</th>\n",
              "      <th>date_added</th>\n",
              "      <th>release_year</th>\n",
              "      <th>rating</th>\n",
              "      <th>duration</th>\n",
              "      <th>listed_in</th>\n",
              "      <th>description</th>\n",
              "      <th>IMDB Average Rating</th>\n",
              "      <th>numVotes</th>\n",
              "    </tr>\n",
              "    <tr>\n",
              "      <th>show_id</th>\n",
              "      <th></th>\n",
              "      <th></th>\n",
              "      <th></th>\n",
              "      <th></th>\n",
              "      <th></th>\n",
              "      <th></th>\n",
              "      <th></th>\n",
              "      <th></th>\n",
              "      <th></th>\n",
              "      <th></th>\n",
              "      <th></th>\n",
              "      <th></th>\n",
              "      <th></th>\n",
              "    </tr>\n",
              "  </thead>\n",
              "  <tbody>\n",
              "    <tr>\n",
              "      <th>81145628</th>\n",
              "      <td>Movie</td>\n",
              "      <td>norm of the north: king sized adventure</td>\n",
              "      <td>Richard Finn, Tim Maltby</td>\n",
              "      <td>Alan Marriott, Andrew Toth, Brian Dobson, Cole Howard, Jennifer Cameron, Jonathan Holmes, Lee Tockar, Lisa Durupt, Maya Kay, Michael Dobson</td>\n",
              "      <td>United States, India, South Korea, China</td>\n",
              "      <td>September 9, 2019</td>\n",
              "      <td>2019</td>\n",
              "      <td>TV-PG</td>\n",
              "      <td>90 min</td>\n",
              "      <td>Children &amp; Family Movies, Comedies</td>\n",
              "      <td>Before planning an awesome wedding for his grandfather, a polar bear king must take back a stolen artifact from an evil archaeologist first.</td>\n",
              "      <td>3.1</td>\n",
              "      <td>258.0</td>\n",
              "    </tr>\n",
              "    <tr>\n",
              "      <th>80117401</th>\n",
              "      <td>Movie</td>\n",
              "      <td>jandino: whatever it takes</td>\n",
              "      <td>NaN</td>\n",
              "      <td>Jandino Asporaat</td>\n",
              "      <td>United Kingdom</td>\n",
              "      <td>September 9, 2016</td>\n",
              "      <td>2016</td>\n",
              "      <td>TV-MA</td>\n",
              "      <td>94 min</td>\n",
              "      <td>Stand-Up Comedy</td>\n",
              "      <td>Jandino Asporaat riffs on the challenges of raising kids and serenades the audience with a rousing rendition of \"Sex on Fire\" in his comedy show.</td>\n",
              "      <td>5.2</td>\n",
              "      <td>18.0</td>\n",
              "    </tr>\n",
              "    <tr>\n",
              "      <th>70234439</th>\n",
              "      <td>TV Show</td>\n",
              "      <td>transformers prime</td>\n",
              "      <td>NaN</td>\n",
              "      <td>Peter Cullen, Sumalee Montano, Frank Welker, Jeffrey Combs, Kevin Michael Richardson, Tania Gunadi, Josh Keaton, Steve Blum, Andy Pessoa, Ernie Hudson, Daran Norris, Will Friedle</td>\n",
              "      <td>United States</td>\n",
              "      <td>September 8, 2018</td>\n",
              "      <td>2013</td>\n",
              "      <td>TV-Y7-FV</td>\n",
              "      <td>1 Season</td>\n",
              "      <td>Kids' TV</td>\n",
              "      <td>With the help of three human allies, the Autobots once again protect Earth from the onslaught of the Decepticons and their leader, Megatron.</td>\n",
              "      <td>NaN</td>\n",
              "      <td>NaN</td>\n",
              "    </tr>\n",
              "    <tr>\n",
              "      <th>80058654</th>\n",
              "      <td>TV Show</td>\n",
              "      <td>transformers: robots in disguise</td>\n",
              "      <td>NaN</td>\n",
              "      <td>Will Friedle, Darren Criss, Constance Zimmer, Khary Payton, Mitchell Whitfield, Stuart Allan, Ted McGinley, Peter Cullen</td>\n",
              "      <td>United States</td>\n",
              "      <td>September 8, 2018</td>\n",
              "      <td>2016</td>\n",
              "      <td>TV-Y7</td>\n",
              "      <td>1 Season</td>\n",
              "      <td>Kids' TV</td>\n",
              "      <td>When a prison ship crash unleashes hundreds of Decepticons on Earth, Bumblebee leads a new Autobot force to protect humankind.</td>\n",
              "      <td>NaN</td>\n",
              "      <td>NaN</td>\n",
              "    </tr>\n",
              "    <tr>\n",
              "      <th>80125979</th>\n",
              "      <td>Movie</td>\n",
              "      <td>#realityhigh</td>\n",
              "      <td>Fernando Lebrija</td>\n",
              "      <td>Nesta Cooper, Kate Walsh, John Michael Higgins, Keith Powers, Alicia Sanz, Jake Borelli, Kid Ink, Yousef Erakat, Rebekah Graf, Anne Winters, Peter Gilroy, Patrick Davis</td>\n",
              "      <td>United States</td>\n",
              "      <td>September 8, 2017</td>\n",
              "      <td>2017</td>\n",
              "      <td>TV-14</td>\n",
              "      <td>99 min</td>\n",
              "      <td>Comedies</td>\n",
              "      <td>When nerdy high schooler Dani finally attracts the interest of her longtime crush, she lands in the cross hairs of his ex, a social media celebrity.</td>\n",
              "      <td>5.2</td>\n",
              "      <td>5023.0</td>\n",
              "    </tr>\n",
              "  </tbody>\n",
              "</table>\n",
              "</div>"
            ],
            "text/plain": [
              "             type                                    title  \\\n",
              "show_id                                                      \n",
              "81145628  Movie    norm of the north: king sized adventure   \n",
              "80117401  Movie    jandino: whatever it takes                \n",
              "70234439  TV Show  transformers prime                        \n",
              "80058654  TV Show  transformers: robots in disguise          \n",
              "80125979  Movie    #realityhigh                              \n",
              "\n",
              "                          director  \\\n",
              "show_id                              \n",
              "81145628  Richard Finn, Tim Maltby   \n",
              "80117401  NaN                        \n",
              "70234439  NaN                        \n",
              "80058654  NaN                        \n",
              "80125979  Fernando Lebrija           \n",
              "\n",
              "                                                                                                                                                                                        cast  \\\n",
              "show_id                                                                                                                                                                                        \n",
              "81145628  Alan Marriott, Andrew Toth, Brian Dobson, Cole Howard, Jennifer Cameron, Jonathan Holmes, Lee Tockar, Lisa Durupt, Maya Kay, Michael Dobson                                          \n",
              "80117401  Jandino Asporaat                                                                                                                                                                     \n",
              "70234439  Peter Cullen, Sumalee Montano, Frank Welker, Jeffrey Combs, Kevin Michael Richardson, Tania Gunadi, Josh Keaton, Steve Blum, Andy Pessoa, Ernie Hudson, Daran Norris, Will Friedle   \n",
              "80058654  Will Friedle, Darren Criss, Constance Zimmer, Khary Payton, Mitchell Whitfield, Stuart Allan, Ted McGinley, Peter Cullen                                                             \n",
              "80125979  Nesta Cooper, Kate Walsh, John Michael Higgins, Keith Powers, Alicia Sanz, Jake Borelli, Kid Ink, Yousef Erakat, Rebekah Graf, Anne Winters, Peter Gilroy, Patrick Davis             \n",
              "\n",
              "                                           country         date_added  \\\n",
              "show_id                                                                 \n",
              "81145628  United States, India, South Korea, China  September 9, 2019   \n",
              "80117401  United Kingdom                            September 9, 2016   \n",
              "70234439  United States                             September 8, 2018   \n",
              "80058654  United States                             September 8, 2018   \n",
              "80125979  United States                             September 8, 2017   \n",
              "\n",
              "          release_year    rating  duration  \\\n",
              "show_id                                      \n",
              "81145628  2019          TV-PG     90 min     \n",
              "80117401  2016          TV-MA     94 min     \n",
              "70234439  2013          TV-Y7-FV  1 Season   \n",
              "80058654  2016          TV-Y7     1 Season   \n",
              "80125979  2017          TV-14     99 min     \n",
              "\n",
              "                                   listed_in  \\\n",
              "show_id                                        \n",
              "81145628  Children & Family Movies, Comedies   \n",
              "80117401  Stand-Up Comedy                      \n",
              "70234439  Kids' TV                             \n",
              "80058654  Kids' TV                             \n",
              "80125979  Comedies                             \n",
              "\n",
              "                                                                                                                                                   description  \\\n",
              "show_id                                                                                                                                                          \n",
              "81145628  Before planning an awesome wedding for his grandfather, a polar bear king must take back a stolen artifact from an evil archaeologist first.           \n",
              "80117401  Jandino Asporaat riffs on the challenges of raising kids and serenades the audience with a rousing rendition of \"Sex on Fire\" in his comedy show.      \n",
              "70234439  With the help of three human allies, the Autobots once again protect Earth from the onslaught of the Decepticons and their leader, Megatron.           \n",
              "80058654  When a prison ship crash unleashes hundreds of Decepticons on Earth, Bumblebee leads a new Autobot force to protect humankind.                         \n",
              "80125979  When nerdy high schooler Dani finally attracts the interest of her longtime crush, she lands in the cross hairs of his ex, a social media celebrity.   \n",
              "\n",
              "          IMDB Average Rating  numVotes  \n",
              "show_id                                  \n",
              "81145628  3.1                  258.0     \n",
              "80117401  5.2                  18.0      \n",
              "70234439 NaN                  NaN        \n",
              "80058654 NaN                  NaN        \n",
              "80125979  5.2                  5023.0    "
            ]
          },
          "metadata": {
            "tags": []
          },
          "execution_count": 18
        }
      ]
    },
    {
      "cell_type": "code",
      "metadata": {
        "id": "IpQ1rvdIg_5V",
        "outputId": "2bbf5247-7305-4b11-895d-e874572ef1e2",
        "colab": {
          "base_uri": "https://localhost:8080/"
        }
      },
      "source": [
        "df_netflix_imdb.info()"
      ],
      "execution_count": 19,
      "outputs": [
        {
          "output_type": "stream",
          "text": [
            "<class 'pandas.core.frame.DataFrame'>\n",
            "Int64Index: 6844 entries, 81145628 to 70153404\n",
            "Data columns (total 13 columns):\n",
            " #   Column               Non-Null Count  Dtype  \n",
            "---  ------               --------------  -----  \n",
            " 0   type                 6844 non-null   object \n",
            " 1   title                6844 non-null   object \n",
            " 2   director             4721 non-null   object \n",
            " 3   cast                 6237 non-null   object \n",
            " 4   country              6341 non-null   object \n",
            " 5   date_added           6833 non-null   object \n",
            " 6   release_year         6844 non-null   int64  \n",
            " 7   rating               6834 non-null   object \n",
            " 8   duration             6844 non-null   object \n",
            " 9   listed_in            6844 non-null   object \n",
            " 10  description          6844 non-null   object \n",
            " 11  IMDB Average Rating  4889 non-null   float64\n",
            " 12  numVotes             4889 non-null   float64\n",
            "dtypes: float64(2), int64(1), object(10)\n",
            "memory usage: 748.6+ KB\n"
          ],
          "name": "stdout"
        }
      ]
    },
    {
      "cell_type": "code",
      "metadata": {
        "id": "G9Lv4jUng_5a",
        "outputId": "d9c8402d-8946-40f4-85b5-63ca90bdf332",
        "colab": {
          "base_uri": "https://localhost:8080/"
        }
      },
      "source": [
        "# Percentage of missing data before pre-processing\n",
        "total = df_netflix_imdb.isnull().sum().sort_values(ascending=False)\n",
        "percent = ((df_netflix_imdb.isnull().sum()/df_netflix_imdb.isnull().count())*100).sort_values(ascending=False)\n",
        "missing_data = pd.concat([total, percent], axis=1, keys=['Total', 'Percent'])\n",
        "#missing_data.head(20)\n",
        "print(missing_data)"
      ],
      "execution_count": 20,
      "outputs": [
        {
          "output_type": "stream",
          "text": [
            "                     Total    Percent\n",
            "director             2123   31.019871\n",
            "numVotes             1955   28.565167\n",
            "IMDB Average Rating  1955   28.565167\n",
            "cast                 607    8.869082 \n",
            "country              503    7.349503 \n",
            "date_added           11     0.160725 \n",
            "rating               10     0.146113 \n",
            "description          0      0.000000 \n",
            "listed_in            0      0.000000 \n",
            "duration             0      0.000000 \n",
            "release_year         0      0.000000 \n",
            "title                0      0.000000 \n",
            "type                 0      0.000000 \n"
          ],
          "name": "stdout"
        }
      ]
    },
    {
      "cell_type": "markdown",
      "metadata": {
        "id": "9_QiJhvMg_5h"
      },
      "source": [
        "<a id=section3></a>\n",
        "## 3. Data Preprocessing"
      ]
    },
    {
      "cell_type": "code",
      "metadata": {
        "id": "DO6P_HLbg_5i"
      },
      "source": [
        "# Remove duplicate rows.\n",
        "\n",
        "df_netflix_imdb.drop_duplicates(inplace=True)"
      ],
      "execution_count": 21,
      "outputs": []
    },
    {
      "cell_type": "code",
      "metadata": {
        "id": "jB6SX7Y2g_5m"
      },
      "source": [
        " # Convert data in 'date_added' column from object to datetime and add a year and month column\n",
        "\n",
        "df_netflix_imdb['date_added'] = pd.to_datetime(df_netflix_imdb['date_added'])\n",
        "df_netflix_imdb['year_added'] = df_netflix_imdb['date_added'].dt.year\n",
        "df_netflix_imdb['month_added'] = df_netflix_imdb['date_added'].dt.month"
      ],
      "execution_count": 22,
      "outputs": []
    },
    {
      "cell_type": "code",
      "metadata": {
        "id": "qZn747aSg_5o"
      },
      "source": [
        "# Addressing Numeric Columns with missing values\n",
        "\n",
        "df_netflix_imdb['IMDB Average Rating'].fillna(df_netflix_imdb['IMDB Average Rating'].mean(), inplace= True)\n",
        "df_netflix_imdb['numVotes'].fillna(df_netflix_imdb['numVotes'].median(), inplace= True)"
      ],
      "execution_count": 23,
      "outputs": []
    },
    {
      "cell_type": "code",
      "metadata": {
        "id": "yRP_p4Irg_5q"
      },
      "source": [
        "# Addressing Categorical Columns with missing values\n",
        "\n",
        "df_netflix_imdb['director'].fillna(df_netflix_imdb['director'].mode()[0], inplace= True)\n",
        "df_netflix_imdb['country'].fillna(df_netflix_imdb['country'].mode()[0], inplace= True)\n",
        "df_netflix_imdb['cast'].fillna(df_netflix_imdb['cast'].mode()[0], inplace= True)\n",
        "df_netflix_imdb['rating'].fillna(df_netflix_imdb['rating'].mode()[0], inplace= True)"
      ],
      "execution_count": 24,
      "outputs": []
    },
    {
      "cell_type": "code",
      "metadata": {
        "id": "Tr44K1mug_5v",
        "outputId": "3e1ccd0c-457b-465f-aae1-243ff3cad0cf",
        "colab": {
          "base_uri": "https://localhost:8080/",
          "height": 738
        }
      },
      "source": [
        "df_netflix_imdb.describe(include= 'all')"
      ],
      "execution_count": 25,
      "outputs": [
        {
          "output_type": "execute_result",
          "data": {
            "text/html": [
              "<div>\n",
              "<style scoped>\n",
              "    .dataframe tbody tr th:only-of-type {\n",
              "        vertical-align: middle;\n",
              "    }\n",
              "\n",
              "    .dataframe tbody tr th {\n",
              "        vertical-align: top;\n",
              "    }\n",
              "\n",
              "    .dataframe thead th {\n",
              "        text-align: right;\n",
              "    }\n",
              "</style>\n",
              "<table border=\"1\" class=\"dataframe\">\n",
              "  <thead>\n",
              "    <tr style=\"text-align: right;\">\n",
              "      <th></th>\n",
              "      <th>type</th>\n",
              "      <th>title</th>\n",
              "      <th>director</th>\n",
              "      <th>cast</th>\n",
              "      <th>country</th>\n",
              "      <th>date_added</th>\n",
              "      <th>release_year</th>\n",
              "      <th>rating</th>\n",
              "      <th>duration</th>\n",
              "      <th>listed_in</th>\n",
              "      <th>description</th>\n",
              "      <th>IMDB Average Rating</th>\n",
              "      <th>numVotes</th>\n",
              "      <th>year_added</th>\n",
              "      <th>month_added</th>\n",
              "    </tr>\n",
              "  </thead>\n",
              "  <tbody>\n",
              "    <tr>\n",
              "      <th>count</th>\n",
              "      <td>6842</td>\n",
              "      <td>6842</td>\n",
              "      <td>6842</td>\n",
              "      <td>6842</td>\n",
              "      <td>6842</td>\n",
              "      <td>6831</td>\n",
              "      <td>6842.000000</td>\n",
              "      <td>6842</td>\n",
              "      <td>6842</td>\n",
              "      <td>6842</td>\n",
              "      <td>6842</td>\n",
              "      <td>6842.000000</td>\n",
              "      <td>6.842000e+03</td>\n",
              "      <td>6831.000000</td>\n",
              "      <td>6831.000000</td>\n",
              "    </tr>\n",
              "    <tr>\n",
              "      <th>unique</th>\n",
              "      <td>2</td>\n",
              "      <td>6169</td>\n",
              "      <td>3301</td>\n",
              "      <td>5469</td>\n",
              "      <td>553</td>\n",
              "      <td>1189</td>\n",
              "      <td>NaN</td>\n",
              "      <td>14</td>\n",
              "      <td>201</td>\n",
              "      <td>461</td>\n",
              "      <td>6226</td>\n",
              "      <td>NaN</td>\n",
              "      <td>NaN</td>\n",
              "      <td>NaN</td>\n",
              "      <td>NaN</td>\n",
              "    </tr>\n",
              "    <tr>\n",
              "      <th>top</th>\n",
              "      <td>Movie</td>\n",
              "      <td>love</td>\n",
              "      <td>Raúl Campos, Jan Suter</td>\n",
              "      <td>David Attenborough</td>\n",
              "      <td>United States</td>\n",
              "      <td>2020-01-01 00:00:00</td>\n",
              "      <td>NaN</td>\n",
              "      <td>TV-MA</td>\n",
              "      <td>1 Season</td>\n",
              "      <td>Documentaries</td>\n",
              "      <td>Superheroes amass to stop intergalactic sociopath Thanos from acquiring a full set of Infinity Stones and wiping out half of all life in the universe.</td>\n",
              "      <td>NaN</td>\n",
              "      <td>NaN</td>\n",
              "      <td>NaN</td>\n",
              "      <td>NaN</td>\n",
              "    </tr>\n",
              "    <tr>\n",
              "      <th>freq</th>\n",
              "      <td>4709</td>\n",
              "      <td>14</td>\n",
              "      <td>2140</td>\n",
              "      <td>630</td>\n",
              "      <td>2784</td>\n",
              "      <td>160</td>\n",
              "      <td>NaN</td>\n",
              "      <td>2256</td>\n",
              "      <td>1464</td>\n",
              "      <td>316</td>\n",
              "      <td>9</td>\n",
              "      <td>NaN</td>\n",
              "      <td>NaN</td>\n",
              "      <td>NaN</td>\n",
              "      <td>NaN</td>\n",
              "    </tr>\n",
              "    <tr>\n",
              "      <th>first</th>\n",
              "      <td>NaN</td>\n",
              "      <td>NaN</td>\n",
              "      <td>NaN</td>\n",
              "      <td>NaN</td>\n",
              "      <td>NaN</td>\n",
              "      <td>2008-01-01 00:00:00</td>\n",
              "      <td>NaN</td>\n",
              "      <td>NaN</td>\n",
              "      <td>NaN</td>\n",
              "      <td>NaN</td>\n",
              "      <td>NaN</td>\n",
              "      <td>NaN</td>\n",
              "      <td>NaN</td>\n",
              "      <td>NaN</td>\n",
              "      <td>NaN</td>\n",
              "    </tr>\n",
              "    <tr>\n",
              "      <th>last</th>\n",
              "      <td>NaN</td>\n",
              "      <td>NaN</td>\n",
              "      <td>NaN</td>\n",
              "      <td>NaN</td>\n",
              "      <td>NaN</td>\n",
              "      <td>2020-01-18 00:00:00</td>\n",
              "      <td>NaN</td>\n",
              "      <td>NaN</td>\n",
              "      <td>NaN</td>\n",
              "      <td>NaN</td>\n",
              "      <td>NaN</td>\n",
              "      <td>NaN</td>\n",
              "      <td>NaN</td>\n",
              "      <td>NaN</td>\n",
              "      <td>NaN</td>\n",
              "    </tr>\n",
              "    <tr>\n",
              "      <th>mean</th>\n",
              "      <td>NaN</td>\n",
              "      <td>NaN</td>\n",
              "      <td>NaN</td>\n",
              "      <td>NaN</td>\n",
              "      <td>NaN</td>\n",
              "      <td>NaN</td>\n",
              "      <td>2013.412160</td>\n",
              "      <td>NaN</td>\n",
              "      <td>NaN</td>\n",
              "      <td>NaN</td>\n",
              "      <td>NaN</td>\n",
              "      <td>6.529323</td>\n",
              "      <td>1.637090e+04</td>\n",
              "      <td>2018.001464</td>\n",
              "      <td>6.812180</td>\n",
              "    </tr>\n",
              "    <tr>\n",
              "      <th>std</th>\n",
              "      <td>NaN</td>\n",
              "      <td>NaN</td>\n",
              "      <td>NaN</td>\n",
              "      <td>NaN</td>\n",
              "      <td>NaN</td>\n",
              "      <td>NaN</td>\n",
              "      <td>8.597546</td>\n",
              "      <td>NaN</td>\n",
              "      <td>NaN</td>\n",
              "      <td>NaN</td>\n",
              "      <td>NaN</td>\n",
              "      <td>1.042300</td>\n",
              "      <td>7.872791e+04</td>\n",
              "      <td>1.200536</td>\n",
              "      <td>3.641795</td>\n",
              "    </tr>\n",
              "    <tr>\n",
              "      <th>min</th>\n",
              "      <td>NaN</td>\n",
              "      <td>NaN</td>\n",
              "      <td>NaN</td>\n",
              "      <td>NaN</td>\n",
              "      <td>NaN</td>\n",
              "      <td>NaN</td>\n",
              "      <td>1925.000000</td>\n",
              "      <td>NaN</td>\n",
              "      <td>NaN</td>\n",
              "      <td>NaN</td>\n",
              "      <td>NaN</td>\n",
              "      <td>1.600000</td>\n",
              "      <td>5.000000e+00</td>\n",
              "      <td>2008.000000</td>\n",
              "      <td>1.000000</td>\n",
              "    </tr>\n",
              "    <tr>\n",
              "      <th>25%</th>\n",
              "      <td>NaN</td>\n",
              "      <td>NaN</td>\n",
              "      <td>NaN</td>\n",
              "      <td>NaN</td>\n",
              "      <td>NaN</td>\n",
              "      <td>NaN</td>\n",
              "      <td>2013.000000</td>\n",
              "      <td>NaN</td>\n",
              "      <td>NaN</td>\n",
              "      <td>NaN</td>\n",
              "      <td>NaN</td>\n",
              "      <td>6.200000</td>\n",
              "      <td>3.512500e+02</td>\n",
              "      <td>2017.000000</td>\n",
              "      <td>3.000000</td>\n",
              "    </tr>\n",
              "    <tr>\n",
              "      <th>50%</th>\n",
              "      <td>NaN</td>\n",
              "      <td>NaN</td>\n",
              "      <td>NaN</td>\n",
              "      <td>NaN</td>\n",
              "      <td>NaN</td>\n",
              "      <td>NaN</td>\n",
              "      <td>2016.000000</td>\n",
              "      <td>NaN</td>\n",
              "      <td>NaN</td>\n",
              "      <td>NaN</td>\n",
              "      <td>NaN</td>\n",
              "      <td>6.529323</td>\n",
              "      <td>9.940000e+02</td>\n",
              "      <td>2018.000000</td>\n",
              "      <td>7.000000</td>\n",
              "    </tr>\n",
              "    <tr>\n",
              "      <th>75%</th>\n",
              "      <td>NaN</td>\n",
              "      <td>NaN</td>\n",
              "      <td>NaN</td>\n",
              "      <td>NaN</td>\n",
              "      <td>NaN</td>\n",
              "      <td>NaN</td>\n",
              "      <td>2018.000000</td>\n",
              "      <td>NaN</td>\n",
              "      <td>NaN</td>\n",
              "      <td>NaN</td>\n",
              "      <td>NaN</td>\n",
              "      <td>7.100000</td>\n",
              "      <td>2.591000e+03</td>\n",
              "      <td>2019.000000</td>\n",
              "      <td>10.000000</td>\n",
              "    </tr>\n",
              "    <tr>\n",
              "      <th>max</th>\n",
              "      <td>NaN</td>\n",
              "      <td>NaN</td>\n",
              "      <td>NaN</td>\n",
              "      <td>NaN</td>\n",
              "      <td>NaN</td>\n",
              "      <td>NaN</td>\n",
              "      <td>2020.000000</td>\n",
              "      <td>NaN</td>\n",
              "      <td>NaN</td>\n",
              "      <td>NaN</td>\n",
              "      <td>NaN</td>\n",
              "      <td>10.000000</td>\n",
              "      <td>1.951015e+06</td>\n",
              "      <td>2020.000000</td>\n",
              "      <td>12.000000</td>\n",
              "    </tr>\n",
              "  </tbody>\n",
              "</table>\n",
              "</div>"
            ],
            "text/plain": [
              "         type title                director                cast  \\\n",
              "count   6842   6842  6842                    6842                 \n",
              "unique  2      6169  3301                    5469                 \n",
              "top     Movie  love  Raúl Campos, Jan Suter  David Attenborough   \n",
              "freq    4709   14    2140                    630                  \n",
              "first   NaN    NaN   NaN                     NaN                  \n",
              "last    NaN    NaN   NaN                     NaN                  \n",
              "mean    NaN    NaN   NaN                     NaN                  \n",
              "std     NaN    NaN   NaN                     NaN                  \n",
              "min     NaN    NaN   NaN                     NaN                  \n",
              "25%     NaN    NaN   NaN                     NaN                  \n",
              "50%     NaN    NaN   NaN                     NaN                  \n",
              "75%     NaN    NaN   NaN                     NaN                  \n",
              "max     NaN    NaN   NaN                     NaN                  \n",
              "\n",
              "              country           date_added  release_year rating  duration  \\\n",
              "count   6842           6831                 6842.000000   6842   6842       \n",
              "unique  553            1189                NaN            14     201        \n",
              "top     United States  2020-01-01 00:00:00 NaN            TV-MA  1 Season   \n",
              "freq    2784           160                 NaN            2256   1464       \n",
              "first   NaN            2008-01-01 00:00:00 NaN            NaN    NaN        \n",
              "last    NaN            2020-01-18 00:00:00 NaN            NaN    NaN        \n",
              "mean    NaN            NaN                  2013.412160   NaN    NaN        \n",
              "std     NaN            NaN                  8.597546      NaN    NaN        \n",
              "min     NaN            NaN                  1925.000000   NaN    NaN        \n",
              "25%     NaN            NaN                  2013.000000   NaN    NaN        \n",
              "50%     NaN            NaN                  2016.000000   NaN    NaN        \n",
              "75%     NaN            NaN                  2018.000000   NaN    NaN        \n",
              "max     NaN            NaN                  2020.000000   NaN    NaN        \n",
              "\n",
              "            listed_in  \\\n",
              "count   6842            \n",
              "unique  461             \n",
              "top     Documentaries   \n",
              "freq    316             \n",
              "first   NaN             \n",
              "last    NaN             \n",
              "mean    NaN             \n",
              "std     NaN             \n",
              "min     NaN             \n",
              "25%     NaN             \n",
              "50%     NaN             \n",
              "75%     NaN             \n",
              "max     NaN             \n",
              "\n",
              "                                                                                                                                                   description  \\\n",
              "count   6842                                                                                                                                                     \n",
              "unique  6226                                                                                                                                                     \n",
              "top     Superheroes amass to stop intergalactic sociopath Thanos from acquiring a full set of Infinity Stones and wiping out half of all life in the universe.   \n",
              "freq    9                                                                                                                                                        \n",
              "first   NaN                                                                                                                                                      \n",
              "last    NaN                                                                                                                                                      \n",
              "mean    NaN                                                                                                                                                      \n",
              "std     NaN                                                                                                                                                      \n",
              "min     NaN                                                                                                                                                      \n",
              "25%     NaN                                                                                                                                                      \n",
              "50%     NaN                                                                                                                                                      \n",
              "75%     NaN                                                                                                                                                      \n",
              "max     NaN                                                                                                                                                      \n",
              "\n",
              "        IMDB Average Rating      numVotes   year_added  month_added  \n",
              "count   6842.000000          6.842000e+03  6831.000000  6831.000000  \n",
              "unique NaN                  NaN           NaN          NaN           \n",
              "top    NaN                  NaN           NaN          NaN           \n",
              "freq   NaN                  NaN           NaN          NaN           \n",
              "first  NaN                  NaN           NaN          NaN           \n",
              "last   NaN                  NaN           NaN          NaN           \n",
              "mean    6.529323             1.637090e+04  2018.001464  6.812180     \n",
              "std     1.042300             7.872791e+04  1.200536     3.641795     \n",
              "min     1.600000             5.000000e+00  2008.000000  1.000000     \n",
              "25%     6.200000             3.512500e+02  2017.000000  3.000000     \n",
              "50%     6.529323             9.940000e+02  2018.000000  7.000000     \n",
              "75%     7.100000             2.591000e+03  2019.000000  10.000000    \n",
              "max     10.000000            1.951015e+06  2020.000000  12.000000    "
            ]
          },
          "metadata": {
            "tags": []
          },
          "execution_count": 25
        }
      ]
    },
    {
      "cell_type": "code",
      "metadata": {
        "scrolled": true,
        "id": "R-6I8g2sg_5z",
        "outputId": "aa524f91-f893-42b8-df8d-979ca4bef1ef",
        "colab": {
          "base_uri": "https://localhost:8080/"
        }
      },
      "source": [
        "#Percentage of missing data after pre-processing\n",
        "total = df_netflix_imdb.isnull().sum().sort_values(ascending=False)\n",
        "percent = ((df_netflix_imdb.isnull().sum()/df_netflix_imdb.isnull().count())*100).sort_values(ascending=False)\n",
        "missing_data = pd.concat([total, percent], axis=1, keys=['Total', 'Percent'])\n",
        "#missing_data.head(20)\n",
        "print(missing_data)"
      ],
      "execution_count": 26,
      "outputs": [
        {
          "output_type": "stream",
          "text": [
            "                     Total   Percent\n",
            "month_added          11     0.160772\n",
            "year_added           11     0.160772\n",
            "date_added           11     0.160772\n",
            "numVotes             0      0.000000\n",
            "IMDB Average Rating  0      0.000000\n",
            "description          0      0.000000\n",
            "listed_in            0      0.000000\n",
            "duration             0      0.000000\n",
            "rating               0      0.000000\n",
            "release_year         0      0.000000\n",
            "country              0      0.000000\n",
            "cast                 0      0.000000\n",
            "director             0      0.000000\n",
            "title                0      0.000000\n",
            "type                 0      0.000000\n"
          ],
          "name": "stdout"
        }
      ]
    },
    {
      "cell_type": "markdown",
      "metadata": {
        "id": "wO1zlcDtg_52"
      },
      "source": [
        "<a id=section4></a>\n",
        "## 4 Export Dataset for Analysis"
      ]
    },
    {
      "cell_type": "markdown",
      "metadata": {
        "id": "v-2cSAqWg_52"
      },
      "source": [
        "<a id=section401></a>\n",
        "### 4.1 Export processed NETFLIX-IMDB Dataset for analysis"
      ]
    },
    {
      "cell_type": "code",
      "metadata": {
        "id": "TZMkB1SNg_53"
      },
      "source": [
        "# Export processed NETFLIX-IMDB Dataset for analysis\n",
        "df_netflix_imdb.to_excel('/content/drive/My Drive/Colab Notebooks/Tableau Projects/Netflix Data Analysis/Processed Datasets/Netflix_IMDB_Datasets.xlsx', sheet_name='NETFLIX_IMDB_DATA', index = True)"
      ],
      "execution_count": 33,
      "outputs": []
    },
    {
      "cell_type": "markdown",
      "metadata": {
        "id": "V1JXlC33g_56"
      },
      "source": [
        "<a id=section402></a>\n",
        "### 4.2 Export processed NETFLIX_Country Dataset for analysis"
      ]
    },
    {
      "cell_type": "code",
      "metadata": {
        "id": "pWcm_F6Og_57"
      },
      "source": [
        "# Many contents contain more than one Country in country column. \n",
        "#This step splits the countries in sepearate rows and put in a seperate dataframe.\n",
        "\n",
        "from itertools import chain\n",
        "\n",
        "# return list from series of comma-separated strings\n",
        "def chainer(s):\n",
        "    return list(chain.from_iterable(s.str.split(',')))\n",
        "\n",
        "# calculate lengths of splits\n",
        "lens = df_netflix_imdb['country'].str.split(',').map(len)\n",
        "\n",
        "# create new dataframe, repeating or chaining as appropriate\n",
        "split_country = pd.DataFrame({'title': np.repeat(df_netflix_imdb['title'], lens),\n",
        "                              'country': chainer(df_netflix_imdb['country'])                       \n",
        "                    })\n",
        "\n",
        "split_country['country']=split_country['country'].str.strip()"
      ],
      "execution_count": 34,
      "outputs": []
    },
    {
      "cell_type": "code",
      "metadata": {
        "id": "FnjaPSBlg_5_",
        "outputId": "77b76768-30e5-4dc3-fcae-a3b4e226e525",
        "colab": {
          "base_uri": "https://localhost:8080/"
        }
      },
      "source": [
        "split_country.info()"
      ],
      "execution_count": 35,
      "outputs": [
        {
          "output_type": "stream",
          "text": [
            "<class 'pandas.core.frame.DataFrame'>\n",
            "Int64Index: 8423 entries, 81145628 to 70153404\n",
            "Data columns (total 2 columns):\n",
            " #   Column   Non-Null Count  Dtype \n",
            "---  ------   --------------  ----- \n",
            " 0   title    8423 non-null   object\n",
            " 1   country  8423 non-null   object\n",
            "dtypes: object(2)\n",
            "memory usage: 197.4+ KB\n"
          ],
          "name": "stdout"
        }
      ]
    },
    {
      "cell_type": "code",
      "metadata": {
        "id": "xoTCieN8g_6D"
      },
      "source": [
        "split_country['country'].replace('', np.nan, inplace=True)\n",
        "split_country.dropna(subset=['country'], inplace=True)"
      ],
      "execution_count": 36,
      "outputs": []
    },
    {
      "cell_type": "code",
      "metadata": {
        "id": "Bb2mqV3Vg_6G",
        "outputId": "7765268b-7418-40b3-c223-85909c51927f",
        "colab": {
          "base_uri": "https://localhost:8080/"
        }
      },
      "source": [
        "split_country.info()"
      ],
      "execution_count": 37,
      "outputs": [
        {
          "output_type": "stream",
          "text": [
            "<class 'pandas.core.frame.DataFrame'>\n",
            "Int64Index: 8421 entries, 81145628 to 70153404\n",
            "Data columns (total 2 columns):\n",
            " #   Column   Non-Null Count  Dtype \n",
            "---  ------   --------------  ----- \n",
            " 0   title    8421 non-null   object\n",
            " 1   country  8421 non-null   object\n",
            "dtypes: object(2)\n",
            "memory usage: 197.4+ KB\n"
          ],
          "name": "stdout"
        }
      ]
    },
    {
      "cell_type": "code",
      "metadata": {
        "id": "G6PVkB9gg_6K"
      },
      "source": [
        "split_country.to_excel('/content/drive/My Drive/Colab Notebooks/Tableau Projects/Netflix Data Analysis/Processed Datasets/Netflix_Country.xlsx', sheet_name='Netflix_Country',index = True)"
      ],
      "execution_count": 38,
      "outputs": []
    },
    {
      "cell_type": "markdown",
      "metadata": {
        "id": "sPQGQ4Pyg_6O"
      },
      "source": [
        "<a id=section403></a>\n",
        "### 4.3 Export processed NETFLIX_Genre Dataset for analysis"
      ]
    },
    {
      "cell_type": "code",
      "metadata": {
        "id": "MTCFlmGIg_6P",
        "outputId": "ad762ce1-00f4-46e7-fe2f-0b4102eea20a",
        "colab": {
          "base_uri": "https://localhost:8080/",
          "height": 431
        }
      },
      "source": [
        "# Many contents contain more than one Genres in listed_in column. \n",
        "#This step splits the Genres in sepearate rows and put in a seperate dataframe.\n",
        "\n",
        "from itertools import chain\n",
        "\n",
        "# return list from series of comma-separated strings\n",
        "def chainer(s):\n",
        "    return list(chain.from_iterable(s.str.split(',')))\n",
        "\n",
        "# calculate lengths of splits\n",
        "lens = df_netflix_imdb['listed_in'].str.split(',').map(len)\n",
        "\n",
        "# create new dataframe, repeating or chaining as appropriate\n",
        "genres_df = pd.DataFrame({'title': np.repeat(df_netflix_imdb['title'], lens),\n",
        "                           'genres': chainer(df_netflix_imdb['listed_in'])                       \n",
        "                    })\n",
        "\n",
        "genres_df['genres']=genres_df['genres'].str.strip()\n",
        "genres_df"
      ],
      "execution_count": 39,
      "outputs": [
        {
          "output_type": "execute_result",
          "data": {
            "text/html": [
              "<div>\n",
              "<style scoped>\n",
              "    .dataframe tbody tr th:only-of-type {\n",
              "        vertical-align: middle;\n",
              "    }\n",
              "\n",
              "    .dataframe tbody tr th {\n",
              "        vertical-align: top;\n",
              "    }\n",
              "\n",
              "    .dataframe thead th {\n",
              "        text-align: right;\n",
              "    }\n",
              "</style>\n",
              "<table border=\"1\" class=\"dataframe\">\n",
              "  <thead>\n",
              "    <tr style=\"text-align: right;\">\n",
              "      <th></th>\n",
              "      <th>title</th>\n",
              "      <th>genres</th>\n",
              "    </tr>\n",
              "    <tr>\n",
              "      <th>show_id</th>\n",
              "      <th></th>\n",
              "      <th></th>\n",
              "    </tr>\n",
              "  </thead>\n",
              "  <tbody>\n",
              "    <tr>\n",
              "      <th>81145628</th>\n",
              "      <td>norm of the north: king sized adventure</td>\n",
              "      <td>Children &amp; Family Movies</td>\n",
              "    </tr>\n",
              "    <tr>\n",
              "      <th>81145628</th>\n",
              "      <td>norm of the north: king sized adventure</td>\n",
              "      <td>Comedies</td>\n",
              "    </tr>\n",
              "    <tr>\n",
              "      <th>80117401</th>\n",
              "      <td>jandino: whatever it takes</td>\n",
              "      <td>Stand-Up Comedy</td>\n",
              "    </tr>\n",
              "    <tr>\n",
              "      <th>70234439</th>\n",
              "      <td>transformers prime</td>\n",
              "      <td>Kids' TV</td>\n",
              "    </tr>\n",
              "    <tr>\n",
              "      <th>80058654</th>\n",
              "      <td>transformers: robots in disguise</td>\n",
              "      <td>Kids' TV</td>\n",
              "    </tr>\n",
              "    <tr>\n",
              "      <th>...</th>\n",
              "      <td>...</td>\n",
              "      <td>...</td>\n",
              "    </tr>\n",
              "    <tr>\n",
              "      <th>70281022</th>\n",
              "      <td>a young doctor's notebook and other stories</td>\n",
              "      <td>British TV Shows</td>\n",
              "    </tr>\n",
              "    <tr>\n",
              "      <th>70281022</th>\n",
              "      <td>a young doctor's notebook and other stories</td>\n",
              "      <td>TV Comedies</td>\n",
              "    </tr>\n",
              "    <tr>\n",
              "      <th>70281022</th>\n",
              "      <td>a young doctor's notebook and other stories</td>\n",
              "      <td>TV Dramas</td>\n",
              "    </tr>\n",
              "    <tr>\n",
              "      <th>70153404</th>\n",
              "      <td>friends</td>\n",
              "      <td>Classic &amp; Cult TV</td>\n",
              "    </tr>\n",
              "    <tr>\n",
              "      <th>70153404</th>\n",
              "      <td>friends</td>\n",
              "      <td>TV Comedies</td>\n",
              "    </tr>\n",
              "  </tbody>\n",
              "</table>\n",
              "<p>15058 rows × 2 columns</p>\n",
              "</div>"
            ],
            "text/plain": [
              "                                                title  \\\n",
              "show_id                                                 \n",
              "81145628  norm of the north: king sized adventure       \n",
              "81145628  norm of the north: king sized adventure       \n",
              "80117401  jandino: whatever it takes                    \n",
              "70234439  transformers prime                            \n",
              "80058654  transformers: robots in disguise              \n",
              "...                      ...                            \n",
              "70281022  a young doctor's notebook and other stories   \n",
              "70281022  a young doctor's notebook and other stories   \n",
              "70281022  a young doctor's notebook and other stories   \n",
              "70153404  friends                                       \n",
              "70153404  friends                                       \n",
              "\n",
              "                            genres  \n",
              "show_id                             \n",
              "81145628  Children & Family Movies  \n",
              "81145628  Comedies                  \n",
              "80117401  Stand-Up Comedy           \n",
              "70234439  Kids' TV                  \n",
              "80058654  Kids' TV                  \n",
              "...            ...                  \n",
              "70281022  British TV Shows          \n",
              "70281022  TV Comedies               \n",
              "70281022  TV Dramas                 \n",
              "70153404  Classic & Cult TV         \n",
              "70153404  TV Comedies               \n",
              "\n",
              "[15058 rows x 2 columns]"
            ]
          },
          "metadata": {
            "tags": []
          },
          "execution_count": 39
        }
      ]
    },
    {
      "cell_type": "code",
      "metadata": {
        "id": "edm8-UxCg_6R",
        "outputId": "1a4fd92d-0306-43e4-bbe6-901363867e55",
        "colab": {
          "base_uri": "https://localhost:8080/"
        }
      },
      "source": [
        "genres_df.info()"
      ],
      "execution_count": 40,
      "outputs": [
        {
          "output_type": "stream",
          "text": [
            "<class 'pandas.core.frame.DataFrame'>\n",
            "Int64Index: 15058 entries, 81145628 to 70153404\n",
            "Data columns (total 2 columns):\n",
            " #   Column  Non-Null Count  Dtype \n",
            "---  ------  --------------  ----- \n",
            " 0   title   15058 non-null  object\n",
            " 1   genres  15058 non-null  object\n",
            "dtypes: object(2)\n",
            "memory usage: 352.9+ KB\n"
          ],
          "name": "stdout"
        }
      ]
    },
    {
      "cell_type": "code",
      "metadata": {
        "id": "pv1MCNH1g_6T"
      },
      "source": [
        "genres_df['genres'].replace('', np.nan, inplace=True)\n",
        "genres_df.dropna(subset=['genres'], inplace=True)"
      ],
      "execution_count": 41,
      "outputs": []
    },
    {
      "cell_type": "code",
      "metadata": {
        "id": "3mweFnhog_6V",
        "outputId": "8d847e51-2e5a-4242-8925-25e94d329f62",
        "colab": {
          "base_uri": "https://localhost:8080/"
        }
      },
      "source": [
        "genres_df.info()"
      ],
      "execution_count": 42,
      "outputs": [
        {
          "output_type": "stream",
          "text": [
            "<class 'pandas.core.frame.DataFrame'>\n",
            "Int64Index: 15058 entries, 81145628 to 70153404\n",
            "Data columns (total 2 columns):\n",
            " #   Column  Non-Null Count  Dtype \n",
            "---  ------  --------------  ----- \n",
            " 0   title   15058 non-null  object\n",
            " 1   genres  15058 non-null  object\n",
            "dtypes: object(2)\n",
            "memory usage: 352.9+ KB\n"
          ],
          "name": "stdout"
        }
      ]
    },
    {
      "cell_type": "code",
      "metadata": {
        "id": "usstQ9pVg_6X"
      },
      "source": [
        "genres_df.to_excel('/content/drive/My Drive/Colab Notebooks/Tableau Projects/Netflix Data Analysis/Processed Datasets/Netflix_Content_Genres.xlsx', sheet_name='Netflix_Genres', index = True)"
      ],
      "execution_count": 43,
      "outputs": []
    }
  ]
}